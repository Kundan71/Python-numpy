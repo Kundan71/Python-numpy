{
  "nbformat": 4,
  "nbformat_minor": 0,
  "metadata": {
    "colab": {
      "provenance": [],
      "include_colab_link": true
    },
    "kernelspec": {
      "name": "python3",
      "display_name": "Python 3"
    }
  },
  "cells": [
    {
      "cell_type": "markdown",
      "metadata": {
        "id": "view-in-github",
        "colab_type": "text"
      },
      "source": [
        "<a href=\"https://colab.research.google.com/github/Kundan71/Python-numpy/blob/main/NumPy_Operations_2.ipynb\" target=\"_parent\"><img src=\"https://colab.research.google.com/assets/colab-badge.svg\" alt=\"Open In Colab\"/></a>"
      ]
    },
    {
      "cell_type": "markdown",
      "metadata": {
        "id": "MKXTc2Tas23T"
      },
      "source": [
        "# <u> Use only those concepts which have been taught till now </u>"
      ]
    },
    {
      "cell_type": "code",
      "source": [
        "import numpy as np"
      ],
      "metadata": {
        "id": "sPHM6SNPVrYD"
      },
      "execution_count": null,
      "outputs": []
    },
    {
      "cell_type": "markdown",
      "metadata": {
        "id": "Ase3qjp9cJUC"
      },
      "source": [
        "# <u>**Problem 1**</u>\n",
        "\n",
        "### What is the average value of the first 5 rows of the third and fourth columns?\n",
        "\n"
      ]
    },
    {
      "cell_type": "code",
      "metadata": {
        "id": "xj0SaK7smcPu",
        "colab": {
          "base_uri": "https://localhost:8080/"
        },
        "outputId": "6655d6f2-fad8-4e31-b10f-92cff9001cef"
      },
      "source": [
        "np.random.seed(21) # This guarantees the code will generate the same set of random numbers whenever executed\n",
        "random_integers = np.random.randint(1,high=500000, size=(20, 5))\n",
        "random_integers"
      ],
      "execution_count": null,
      "outputs": [
        {
          "output_type": "execute_result",
          "data": {
            "text/plain": [
              "array([[ 80842, 333008, 202553, 140037,  81969],\n",
              "       [ 63857,  42105, 261540, 481981, 176739],\n",
              "       [489984, 326386, 110795, 394863,  25024],\n",
              "       [ 38317,  49982, 408830, 485118,  16119],\n",
              "       [407675, 231729, 265455, 109413, 103399],\n",
              "       [174677, 343356, 301717, 224120, 401101],\n",
              "       [140473, 254634, 112262,  25063, 108262],\n",
              "       [375059, 406983, 208947, 115641, 296685],\n",
              "       [444899, 129585, 171318, 313094, 425041],\n",
              "       [188411, 335140, 141681,  59641, 211420],\n",
              "       [287650,   8973, 477425, 382803, 465168],\n",
              "       [  3975,  32213, 160603, 275485, 388234],\n",
              "       [246225,  56174, 244097,   9350, 496966],\n",
              "       [225516, 273338,  73335, 283013, 212813],\n",
              "       [ 38175, 282399, 318413, 337639, 379802],\n",
              "       [198049, 101115, 419547, 260219, 325793],\n",
              "       [148593, 425024, 348570, 117968, 107007],\n",
              "       [ 52547, 180346, 178760, 305186, 262153],\n",
              "       [ 11835, 449971, 494184, 472031, 353049],\n",
              "       [476442,  35455, 191553, 384154,  29917]])"
            ]
          },
          "metadata": {
            "tags": []
          },
          "execution_count": 2
        }
      ]
    },
    {
      "cell_type": "code",
      "metadata": {
        "id": "N1hhYCZw3V1c",
        "outputId": "95a04226-d7fe-48ed-d977-cbcf326493f4",
        "colab": {
          "base_uri": "https://localhost:8080/"
        }
      },
      "source": [
        "# Your code here\n",
        "avg_value = np.sum(random_integers[0:5,2:4])\n",
        "print(avg_value)\n",
        "\n",
        "\n"
      ],
      "execution_count": null,
      "outputs": [
        {
          "output_type": "stream",
          "text": [
            "2860585\n"
          ],
          "name": "stdout"
        }
      ]
    },
    {
      "cell_type": "markdown",
      "metadata": {
        "id": "POAj5sBgd3gd"
      },
      "source": [
        "#<u>**Problem 2**</u>\n",
        "\n",
        "### In this problem, we are going to calculate distances between some pairs of points :\n",
        "\n",
        "### <u> Measures of distances </u>\n",
        "* ### Euclidean Distance : The distance between two points $(x_{1},y_{1})$ , $(x_{2},y_{2})$ is defined as :\n",
        "${\\displaystyle d(x,y)={\\sqrt {(x_{1}-x_{2})^{2}+(y_{1}-y_{2})^{2}}}.}$\n",
        "\n",
        "* ### Manhattan Distance : The distance between two points $(x_{1},y_{1})$ , $(x_{2},y_{2})$ is defined as :\n",
        "${\\displaystyle d(x,y)=|x_{1}-x_{2}|+|y_{1}-y_{2}|}$\n"
      ]
    },
    {
      "cell_type": "markdown",
      "metadata": {
        "id": "lw7TLsfd-eXc"
      },
      "source": [
        "### Create a 2-D array of 10 points where the x-coordinates and the y-coordinates can take random integral values between 5 and 20.\n",
        "\n",
        "\n",
        "### Next, create two 1-D arrays(one for  Euclidean distance and the other for  Manhattan distance) for these points\n"
      ]
    },
    {
      "cell_type": "code",
      "metadata": {
        "id": "TOEq4PEP5y8X",
        "outputId": "9e7c6a4b-d21b-4b23-b4aa-0e6194966cd7",
        "colab": {
          "base_uri": "https://localhost:8080/"
        }
      },
      "source": [
        "# Create the 10 points\n",
        "import math\n",
        "np.random.seed(21)\n",
        "point1 = np.random.randint(5,20,size=(10))\n",
        "point2 = np.random.randint(5,20,size=(10))\n",
        "euclidean_dist = np.zeros((10,10))\n"
      ],
      "execution_count": null,
      "outputs": [
        {
          "output_type": "execute_result",
          "data": {
            "text/plain": [
              "2.0"
            ]
          },
          "metadata": {
            "tags": []
          },
          "execution_count": 18
        }
      ]
    },
    {
      "cell_type": "code",
      "metadata": {
        "id": "n86qvsfF6PO2",
        "outputId": "b848102a-fc4f-40fb-b44b-795eb4d36d5e",
        "colab": {
          "base_uri": "https://localhost:8080/"
        }
      },
      "source": [
        "# Calculate Euclidean distances between these pairs of points (total 10*10 = 100 pairs including self pairs). This should give you a 10*10 2-D array where each value corresponds to the distance between a pair\n",
        "for i in range(10):\n",
        "  for j in range(10):\n",
        "    dist = math.sqrt((point1[i]-point1[j])**2 + (point2[i]-point2[j])**2)\n",
        "    euclidean_dist[i][j] = dist\n",
        "print(euclidean_dist)\n",
        "\n",
        "\n",
        "\n"
      ],
      "execution_count": null,
      "outputs": [
        {
          "output_type": "stream",
          "text": [
            "[[ 0.          2.23606798  6.40312424  9.21954446  9.48683298  3.16227766\n",
            "   6.08276253  4.24264069  8.06225775  8.        ]\n",
            " [ 2.23606798  0.          7.21110255  8.94427191  9.43398113  5.\n",
            "   5.09901951  6.40312424  6.32455532  7.28010989]\n",
            " [ 6.40312424  7.21110255  0.          4.47213595  4.12310563  4.12310563\n",
            "   5.09901951  8.06225775  8.24621125  5.        ]\n",
            " [ 9.21954446  8.94427191  4.47213595  0.          1.          8.06225775\n",
            "   4.24264069 12.04159458  6.32455532  2.23606798]\n",
            " [ 9.48683298  9.43398113  4.12310563  1.          0.          8.\n",
            "   5.         12.          7.28010989  3.16227766]\n",
            " [ 3.16227766  5.          4.12310563  8.06225775  8.          0.\n",
            "   6.40312424  4.          9.21954446  7.61577311]\n",
            " [ 6.08276253  5.09901951  5.09901951  4.24264069  5.          6.40312424\n",
            "   0.          9.8488578   3.16227766  2.23606798]\n",
            " [ 4.24264069  6.40312424  8.06225775 12.04159458 12.          4.\n",
            "   9.8488578   0.         12.20655562 11.40175425]\n",
            " [ 8.06225775  6.32455532  8.24621125  6.32455532  7.28010989  9.21954446\n",
            "   3.16227766 12.20655562  0.          4.12310563]\n",
            " [ 8.          7.28010989  5.          2.23606798  3.16227766  7.61577311\n",
            "   2.23606798 11.40175425  4.12310563  0.        ]]\n"
          ],
          "name": "stdout"
        }
      ]
    },
    {
      "cell_type": "code",
      "metadata": {
        "id": "-FIU9Wp97V3P",
        "outputId": "26cb9dce-679f-494b-8528-b6be3e2b7487",
        "colab": {
          "base_uri": "https://localhost:8080/"
        }
      },
      "source": [
        "# Calculate Manhattan distances between these pairs of points (total 10*10 = 100 pairs inlcuding self pairs).This should give you a 10*10 2-D array where each value corresponds to the distance between a pair.\n",
        "manhattan_dist = np.zeros((10,10))\n",
        "for i in range(10):\n",
        "  for j in range(10):\n",
        "    dist = abs(point1[i]-point1[j]) + abs(point2[i]-point2[j])\n",
        "    manhattan_dist[i][j] = dist\n",
        "print(manhattan_dist)\n",
        "\n",
        "\n"
      ],
      "execution_count": null,
      "outputs": [
        {
          "output_type": "stream",
          "text": [
            "[[ 0.  3.  9. 11. 12.  4.  7.  6. 11.  8.]\n",
            " [ 3.  0. 10. 12. 13.  5.  6.  9.  8.  9.]\n",
            " [ 9. 10.  0.  6.  5.  5.  6.  9. 10.  7.]\n",
            " [11. 12.  6.  0.  1.  9.  6. 13.  8.  3.]\n",
            " [12. 13.  5.  1.  0.  8.  7. 12.  9.  4.]\n",
            " [ 4.  5.  5.  9.  8.  0.  9.  4. 13. 10.]\n",
            " [ 7.  6.  6.  6.  7.  9.  0. 13.  4.  3.]\n",
            " [ 6.  9.  9. 13. 12.  4. 13.  0. 17. 14.]\n",
            " [11.  8. 10.  8.  9. 13.  4. 17.  0.  5.]\n",
            " [ 8.  9.  7.  3.  4. 10.  3. 14.  5.  0.]]\n"
          ],
          "name": "stdout"
        }
      ]
    },
    {
      "cell_type": "markdown",
      "metadata": {
        "id": "5ZaKtQlZBLoQ"
      },
      "source": [
        "## Find the closest pairs (excluding self pairs) on the basis of both the distance measures"
      ]
    },
    {
      "cell_type": "code",
      "metadata": {
        "id": "AeKJGamV6qnu"
      },
      "source": [
        "# Your code here\n",
        "\n",
        "\n",
        "\n"
      ],
      "execution_count": null,
      "outputs": []
    },
    {
      "cell_type": "markdown",
      "metadata": {
        "id": "rnEIpxdzfIhF"
      },
      "source": [
        "# <u>**Problem 3**</u>\n",
        "\n",
        "## Extract all the contiguous 3x3 blocks from a random 10x10 matrix. For example, the first matrix corresponds to [:3,:3], then the second matrix corresponds to [:3,1:4],.... Once you have covered the first three rows, then the next set of matrices would be [1:4,:3],[1:4,1:4],.... and so on and so forth. The last matrix would be [7:10,7:10]"
      ]
    },
    {
      "cell_type": "code",
      "metadata": {
        "id": "NuQh8LLBma-0"
      },
      "source": [
        "# Your code below ..\n",
        "np.random.seed(21)\n",
        "matrix_2D = np.random.randint(5,20,size=(10,10))\n",
        "for i in range(7):\n",
        "  for j in range(7):\n",
        "    #print(matrix_2D[i:i+3,j:j+3])\n",
        "    pass\n",
        "\n",
        "\n",
        "\n",
        "\n",
        "\n",
        "\n",
        "\n"
      ],
      "execution_count": null,
      "outputs": []
    },
    {
      "cell_type": "markdown",
      "metadata": {
        "id": "UtGDDH9Qq_2M"
      },
      "source": [
        "#<u>**Problem 4**</u>\n",
        "\n",
        "### Write a function which finds the nearest value from a given value in an array of random N elements. Suppose you created an 1-D array with 15 elements taking values between 10 and 500. Your function would take any input from these values and return the nearest value. (You can use np.abs() function)"
      ]
    },
    {
      "cell_type": "code",
      "metadata": {
        "id": "oknMAmKWFNSX",
        "outputId": "eabe6247-bd1e-4d9e-d2d9-d944ee0563e4",
        "colab": {
          "base_uri": "https://localhost:8080/"
        }
      },
      "source": [
        "# Your function below\n",
        "import numpy as np\n",
        "def find_nearest(array, value):\n",
        "  array = np.asarray(array)\n",
        "  idx = (np.abs(array - value)).argmin()\n",
        "  # argmin() return indices of minimum element\n",
        "  return array[idx]\n",
        "\n",
        "array = np.random.randint(10,500,size=(15))\n",
        "print(array)\n",
        "print(find_nearest(array, 200))\n",
        "\n",
        "\n"
      ],
      "execution_count": null,
      "outputs": [
        {
          "output_type": "stream",
          "text": [
            "[142 172  60 362 323 379 154 237  11 317  11  37 171 256  42]\n",
            "172\n"
          ],
          "name": "stdout"
        }
      ]
    }
  ]
}